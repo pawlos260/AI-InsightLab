{
 "cells": [
  {
   "cell_type": "markdown",
   "metadata": {},
   "source": ["# Example Notebook\n", "Placeholder text."]
  },
  {
   "cell_type": "code",
   "metadata": {},
   "source": [
     "import numpy as np\n", 
     "import matplotlib.pyplot as plt\n", 
     "x = np.linspace(0, 10, 100)\n", 
     "plt.plot(x, np.sin(x))\n", 
     "plt.show()"
   ]
  }
 ],
 "metadata": {
  "kernelspec": {
   "display_name": "Python 3",
   "language": "python",
   "name": "python3"
  },
  "language_info": {
   "name": "python",
   "version": "3.x"
  }
 },
 "nbformat": 4,
 "nbformat_minor": 5
}
